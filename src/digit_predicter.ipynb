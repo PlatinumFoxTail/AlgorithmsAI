{
 "cells": [
  {
   "cell_type": "markdown",
   "metadata": {},
   "source": []
  },
  {
   "cell_type": "markdown",
   "metadata": {},
   "source": [
    "Importing needed libraries and files."
   ]
  },
  {
   "cell_type": "code",
   "execution_count": 72,
   "metadata": {},
   "outputs": [],
   "source": [
    "import pickle\n",
    "import numpy as np\n",
    "import matplotlib.pyplot as plt\n",
    "import mnist_loader\n",
    "import network"
   ]
  },
  {
   "cell_type": "markdown",
   "metadata": {},
   "source": [
    "Loading validation data and making a list of it."
   ]
  },
  {
   "cell_type": "code",
   "execution_count": 73,
   "metadata": {},
   "outputs": [],
   "source": [
    "_, validation_data, _ = mnist_loader.load_data_wrapper()\n",
    "validation_data = list(validation_data)"
   ]
  },
  {
   "cell_type": "markdown",
   "metadata": {},
   "source": [
    "Choosing randomly 10pcs of images from the validation data."
   ]
  },
  {
   "cell_type": "code",
   "execution_count": 74,
   "metadata": {},
   "outputs": [],
   "source": [
    "random_indices = np.random.choice(len(validation_data), size=10, replace=False)\n",
    "random_samples = [(i, image, true_label) for i, (image, true_label) in enumerate(validation_data) if i in random_indices]"
   ]
  },
  {
   "cell_type": "markdown",
   "metadata": {},
   "source": [
    "Plotting randomly chosen 10pcs images as well as their true labels and indecies. "
   ]
  },
  {
   "cell_type": "code",
   "execution_count": 75,
   "metadata": {},
   "outputs": [
    {
     "data": {
      "image/png": "[encoded data removed]",
      "text/plain": [
       "<Figure size 864x432 with 10 Axes>"
      ]
     },
     "metadata": {
      "needs_background": "light"
     },
     "output_type": "display_data"
    }
   ],
   "source": [
    "fig, axes = plt.subplots(2, 5, figsize=(12, 6))  \n",
    "\n",
    "for i, (index, image, true_label) in enumerate(random_samples):\n",
    "    if i < 10:\n",
    "        ax = axes[i // 5, i % 5]\n",
    "        ax.imshow(image.reshape(28, 28), cmap='gray')\n",
    "\n",
    "        if isinstance(true_label, np.ndarray):\n",
    "            ax.set_title(f'True Label: {true_label[0]}\\nIndex: {index}')\n",
    "        else:\n",
    "            ax.set_title(f'True Label: {true_label}\\nIndex: {index}')\n",
    "\n",
    "        ax.axis('off')\n",
    "\n",
    "plt.tight_layout() \n",
    "plt.show()"
   ]
  },
  {
   "cell_type": "markdown",
   "metadata": {},
   "source": [
    "User can choose a digit to be predicted by the neural network model, by selecting the corresponding image index."
   ]
  },
  {
   "cell_type": "code",
   "execution_count": 76,
   "metadata": {},
   "outputs": [],
   "source": [
    "selected_index = int(input(\"Type the index of the image you would like to predict: \"))"
   ]
  },
  {
   "cell_type": "markdown",
   "metadata": {},
   "source": [
    "Setting neural network's number of neurons in input layer to 784, due to 784 pixels per picture. Hidden layer 30pcs of neurons. Output layer set to 10neurons, due to number of digits (0-9). \n",
    "\n",
    "Training neural network with 30 epochs, mini-batch size 10, and learning rate 3.0."
   ]
  },
  {
   "cell_type": "code",
   "execution_count": 77,
   "metadata": {},
   "outputs": [
    {
     "name": "stdout",
     "output_type": "stream",
     "text": [
      "Epoch 0 : 9102 / 10000\n"
     ]
    }
   ],
   "source": [
    "training_data, validation_data, test_data = mnist_loader.load_data_wrapper()\n",
    "\n",
    "net = network.Network([784, 30, 10])\n",
    "net.SGD(training_data, 30, 10, 3.0, test_data=test_data)\n"
   ]
  },
  {
   "cell_type": "markdown",
   "metadata": {},
   "source": [
    "Saving and loading the trained model."
   ]
  },
  {
   "cell_type": "code",
   "execution_count": 78,
   "metadata": {},
   "outputs": [],
   "source": [
    "with open('trained_model.pkl', 'wb') as f:\n",
    "    pickle.dump(net, f)\n",
    "\n",
    "with open('trained_model.pkl', 'rb') as f:\n",
    "    loaded_net = pickle.load(f)\n"
   ]
  },
  {
   "cell_type": "markdown",
   "metadata": {},
   "source": [
    "Fetching user selected image and its true label."
   ]
  },
  {
   "cell_type": "code",
   "execution_count": 79,
   "metadata": {},
   "outputs": [],
   "source": [
    "validation_data_list = list(validation_data)\n",
    "selected_sample = validation_data_list[selected_index]\n",
    "\n",
    "selected_image_data = selected_sample[0]\n",
    "true_label = selected_sample[1]"
   ]
  },
  {
   "cell_type": "markdown",
   "metadata": {},
   "source": [
    "Compatibilizing the user selected image and feeding it to the trained neural network."
   ]
  },
  {
   "cell_type": "code",
   "execution_count": 80,
   "metadata": {},
   "outputs": [],
   "source": [
    "input_data = np.reshape(selected_image_data, (784, 1))\n",
    "predicted_output = loaded_net.feedforward(input_data)"
   ]
  },
  {
   "cell_type": "markdown",
   "metadata": {},
   "source": [
    "Display selected image and its true label. Printing the predicted digit by the model."
   ]
  },
  {
   "cell_type": "code",
   "execution_count": 81,
   "metadata": {},
   "outputs": [
    {
     "data": {
      "image/png": "[encoded data removed]",
      "text/plain": [
       "<Figure size 432x288 with 1 Axes>"
      ]
     },
     "metadata": {
      "needs_background": "light"
     },
     "output_type": "display_data"
    },
    {
     "name": "stdout",
     "output_type": "stream",
     "text": [
      "Predicted Output: 1\n"
     ]
    }
   ],
   "source": [
    "plt.figure()\n",
    "plt.imshow(selected_image_data.reshape(28, 28), cmap='gray')\n",
    "plt.title(f'Selected Image\\nTrue Label: {true_label}\\nIndex: {selected_index}')\n",
    "plt.axis('off')\n",
    "plt.show()\n",
    "\n",
    "print(f\"Predicted Output: {np.argmax(predicted_output)}\")"
   ]
  }
 ],
 "metadata": {
  "kernelspec": {
   "display_name": "Python 3",
   "language": "python",
   "name": "python3"
  },
  "language_info": {
   "codemirror_mode": {
    "name": "ipython",
    "version": 3
   },
   "file_extension": ".py",
   "mimetype": "text/x-python",
   "name": "python",
   "nbconvert_exporter": "python",
   "pygments_lexer": "ipython3",
   "version": "3.10.12"
  }
 },
 "nbformat": 4,
 "nbformat_minor": 2
}
